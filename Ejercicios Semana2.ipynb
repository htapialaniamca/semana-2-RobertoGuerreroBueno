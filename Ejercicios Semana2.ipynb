{
 "cells": [
  {
   "cell_type": "markdown",
   "metadata": {},
   "source": [
    "# Computo de alto desempeño\n",
    "\n",
    "### Roberto Guerrero Bueno (rguerrero.mca16@lania.edu.mx)"
   ]
  },
  {
   "cell_type": "code",
   "execution_count": 1,
   "metadata": {
    "collapsed": false
   },
   "outputs": [
    {
     "name": "stdout",
     "output_type": "stream",
     "text": [
      "1.11.3\n",
      "0.19.2\n",
      "2.0.0\n",
      "6.0.2\n"
     ]
    }
   ],
   "source": [
    "import numpy as np\n",
    "print np.__version__\n",
    "\n",
    "import pandas as pd\n",
    "print pd.__version__\n",
    "\n",
    "import matplotlib as plt\n",
    "print plt.__version__\n",
    "\n",
    "import ipyparallel as ipp\n",
    "print ipp.__version__"
   ]
  },
  {
   "cell_type": "code",
   "execution_count": 2,
   "metadata": {
    "collapsed": true
   },
   "outputs": [],
   "source": [
    "c = ipp.Client()"
   ]
  },
  {
   "cell_type": "code",
   "execution_count": 3,
   "metadata": {
    "collapsed": false
   },
   "outputs": [
    {
     "data": {
      "text/plain": [
       "[0, 1, 2, 3]"
      ]
     },
     "execution_count": 3,
     "metadata": {},
     "output_type": "execute_result"
    }
   ],
   "source": [
    "c.ids"
   ]
  },
  {
   "cell_type": "code",
   "execution_count": 4,
   "metadata": {
    "collapsed": false
   },
   "outputs": [
    {
     "data": {
      "text/plain": [
       "<ipyparallel.client.client.Client at 0xb21f35cc>"
      ]
     },
     "execution_count": 4,
     "metadata": {},
     "output_type": "execute_result"
    }
   ],
   "source": [
    "c"
   ]
  },
  {
   "cell_type": "code",
   "execution_count": 5,
   "metadata": {
    "collapsed": false
   },
   "outputs": [
    {
     "name": "stdout",
     "output_type": "stream",
     "text": [
      "ipcontroller-client.json  ipcontroller-engine.json\r\n"
     ]
    }
   ],
   "source": [
    "!ls ~/.ipython/profile_default/security"
   ]
  },
  {
   "cell_type": "code",
   "execution_count": 6,
   "metadata": {
    "collapsed": false
   },
   "outputs": [
    {
     "name": "stdout",
     "output_type": "stream",
     "text": [
      "{\r\n",
      "  \"control\": 57395, \r\n",
      "  \"task\": 51338, \r\n",
      "  \"hb_ping\": 35212, \r\n",
      "  \"mux\": 59724, \r\n",
      "  \"pack\": \"json\", \r\n",
      "  \"hb_pong\": 33164, \r\n",
      "  \"ssh\": \"\", \r\n",
      "  \"key\": \"69db9eed-a956-4de5-8cdd-29a43b3bc5ff\", \r\n",
      "  \"registration\": 52527, \r\n",
      "  \"interface\": \"tcp://127.0.0.1\", \r\n",
      "  \"iopub\": 55105, \r\n",
      "  \"signature_scheme\": \"hmac-sha256\", \r\n",
      "  \"unpack\": \"json\", \r\n",
      "  \"location\": \"192.168.10.167\"\r\n",
      "}"
     ]
    }
   ],
   "source": [
    "cat ~/.ipython/profile_default/security/ipcontroller-engine.json"
   ]
  },
  {
   "cell_type": "code",
   "execution_count": 7,
   "metadata": {
    "collapsed": false
   },
   "outputs": [
    {
     "name": "stdout",
     "output_type": "stream",
     "text": [
      "{\r\n",
      "  \"control\": 55893, \r\n",
      "  \"task\": 58752, \r\n",
      "  \"notification\": 45337, \r\n",
      "  \"task_scheme\": \"leastload\", \r\n",
      "  \"mux\": 36689, \r\n",
      "  \"iopub\": 45901, \r\n",
      "  \"ssh\": \"\", \r\n",
      "  \"key\": \"69db9eed-a956-4de5-8cdd-29a43b3bc5ff\", \r\n",
      "  \"registration\": 52527, \r\n",
      "  \"interface\": \"tcp://127.0.0.1\", \r\n",
      "  \"signature_scheme\": \"hmac-sha256\", \r\n",
      "  \"pack\": \"json\", \r\n",
      "  \"unpack\": \"json\", \r\n",
      "  \"location\": \"192.168.10.167\"\r\n",
      "}"
     ]
    }
   ],
   "source": [
    "cat ~/.ipython/profile_default/security/ipcontroller-client.json"
   ]
  },
  {
   "cell_type": "code",
   "execution_count": 8,
   "metadata": {
    "collapsed": false
   },
   "outputs": [
    {
     "data": {
      "text/plain": [
       "<DirectView [0, 1, 2, 3]>"
      ]
     },
     "execution_count": 8,
     "metadata": {},
     "output_type": "execute_result"
    }
   ],
   "source": [
    "c[:]"
   ]
  },
  {
   "cell_type": "code",
   "execution_count": 9,
   "metadata": {
    "collapsed": false
   },
   "outputs": [
    {
     "data": {
      "text/plain": [
       "'Hola'"
      ]
     },
     "execution_count": 9,
     "metadata": {},
     "output_type": "execute_result"
    }
   ],
   "source": [
    "\"Hola\""
   ]
  },
  {
   "cell_type": "code",
   "execution_count": 10,
   "metadata": {
    "collapsed": false
   },
   "outputs": [
    {
     "data": {
      "text/plain": [
       "'Hola'"
      ]
     },
     "execution_count": 10,
     "metadata": {},
     "output_type": "execute_result"
    }
   ],
   "source": [
    "#Utiliza el motor 0 c[0].apply_sync\n",
    "c[0].apply_sync(lambda:\"Hola\")"
   ]
  },
  {
   "cell_type": "code",
   "execution_count": 11,
   "metadata": {
    "collapsed": false
   },
   "outputs": [
    {
     "data": {
      "text/plain": [
       "['Hola a todos los motores',\n",
       " 'Hola a todos los motores',\n",
       " 'Hola a todos los motores',\n",
       " 'Hola a todos los motores']"
      ]
     },
     "execution_count": 11,
     "metadata": {},
     "output_type": "execute_result"
    }
   ],
   "source": [
    "#Utilizar todos los motores c[:].apply_sync\n",
    "c[:].apply_sync(lambda: \"Hola a todos los motores\")"
   ]
  },
  {
   "cell_type": "code",
   "execution_count": 13,
   "metadata": {
    "collapsed": false
   },
   "outputs": [],
   "source": [
    "#creando un objeto DirectView para tener acceso desde un objeto a los motores\n",
    "# puede ser dview = c[:] o dview = c.direct_view()\n",
    "dview = c[:]"
   ]
  },
  {
   "cell_type": "code",
   "execution_count": 14,
   "metadata": {
    "collapsed": false
   },
   "outputs": [
    {
     "data": {
      "text/plain": [
       "['Hola a todos los motores accesando desde un objeto',\n",
       " 'Hola a todos los motores accesando desde un objeto',\n",
       " 'Hola a todos los motores accesando desde un objeto',\n",
       " 'Hola a todos los motores accesando desde un objeto']"
      ]
     },
     "execution_count": 14,
     "metadata": {},
     "output_type": "execute_result"
    }
   ],
   "source": [
    "dview.apply_sync(lambda: \"Hola a todos los motores accesando desde un objeto\")"
   ]
  },
  {
   "cell_type": "code",
   "execution_count": 15,
   "metadata": {
    "collapsed": false
   },
   "outputs": [
    {
     "data": {
      "text/plain": [
       "<DirectView [0, 1, 2, 3]>"
      ]
     },
     "execution_count": 15,
     "metadata": {},
     "output_type": "execute_result"
    }
   ],
   "source": [
    "dview"
   ]
  },
  {
   "cell_type": "code",
   "execution_count": 16,
   "metadata": {
    "collapsed": false
   },
   "outputs": [
    {
     "data": {
      "text/plain": [
       "[3153, 3154, 3155, 3156]"
      ]
     },
     "execution_count": 16,
     "metadata": {},
     "output_type": "execute_result"
    }
   ],
   "source": [
    "#Obtener el ID del proceso del Sistema Operativo de cada motor\n",
    "import os\n",
    "dview.apply_sync(os.getpid)"
   ]
  },
  {
   "cell_type": "code",
   "execution_count": 17,
   "metadata": {
    "collapsed": false
   },
   "outputs": [
    {
     "data": {
      "text/plain": [
       "['lania-HP-Compaq-6720s',\n",
       " 'lania-HP-Compaq-6720s',\n",
       " 'lania-HP-Compaq-6720s',\n",
       " 'lania-HP-Compaq-6720s']"
      ]
     },
     "execution_count": 17,
     "metadata": {},
     "output_type": "execute_result"
    }
   ],
   "source": [
    "#Obtener el hostname de la maquina donde reside cada motor que tenemos\n",
    "import socket\n",
    "dview.apply_sync(socket.gethostname)"
   ]
  },
  {
   "cell_type": "code",
   "execution_count": 19,
   "metadata": {
    "collapsed": false
   },
   "outputs": [
    {
     "data": {
      "text/plain": [
       "[0, 3, 6, 9, 12, 15, 18, 21, 24, 27]"
      ]
     },
     "execution_count": 19,
     "metadata": {},
     "output_type": "execute_result"
    }
   ],
   "source": [
    "#sumar 10 conjuntos de 3 numeros en paralelo usando todos los motores de la vista\n",
    "dview.map_sync(lambda x,y,z:x+y+z,range(10),range(10),range(10))"
   ]
  },
  {
   "cell_type": "code",
   "execution_count": 21,
   "metadata": {
    "collapsed": false
   },
   "outputs": [
    {
     "data": {
      "text/plain": [
       "[0, 3, 6, 9, 12, 15, 18, 21, 24, 27]"
      ]
     },
     "execution_count": 21,
     "metadata": {},
     "output_type": "execute_result"
    }
   ],
   "source": [
    "#sumar 10 conjuntos de 3 numeros en paralelo usando motores alternados\n",
    "c[::2].map_sync(lambda x,y,z:x+y+z,range(10),range(10),range(10))"
   ]
  },
  {
   "cell_type": "code",
   "execution_count": 22,
   "metadata": {
    "collapsed": false
   },
   "outputs": [
    {
     "data": {
      "text/plain": [
       "[0, 3, 6, 9, 12, 15, 18, 21, 24, 27]"
      ]
     },
     "execution_count": 22,
     "metadata": {},
     "output_type": "execute_result"
    }
   ],
   "source": [
    "#sumar 10 conjuntos de 3 numeros usando un solo motor\n",
    "c[1].map_sync(lambda x,y,z:x+y+z,range(10),range(10),range(10))"
   ]
  },
  {
   "cell_type": "code",
   "execution_count": 23,
   "metadata": {
    "collapsed": true
   },
   "outputs": [],
   "source": [
    "#Load balanced view permite administrar la distribucion de tareas\n",
    "lview = c.load_balanced_view()"
   ]
  },
  {
   "cell_type": "code",
   "execution_count": 24,
   "metadata": {
    "collapsed": false
   },
   "outputs": [
    {
     "data": {
      "text/plain": [
       "[500019.44347906468,\n",
       " 500030.06323818234,\n",
       " 499746.34065629949,\n",
       " 499934.21333396441,\n",
       " 499756.86087965767,\n",
       " 500125.10488341888,\n",
       " 499336.27089017828,\n",
       " 499951.92854757968,\n",
       " 500166.49613401905,\n",
       " 499970.91003622179]"
      ]
     },
     "execution_count": 24,
     "metadata": {},
     "output_type": "execute_result"
    }
   ],
   "source": [
    "lview.map_sync(lambda x: sum(x), np.random.random((10,1000000)))"
   ]
  },
  {
   "cell_type": "code",
   "execution_count": 25,
   "metadata": {
    "collapsed": false
   },
   "outputs": [
    {
     "data": {
      "text/plain": [
       "8"
      ]
     },
     "execution_count": 25,
     "metadata": {},
     "output_type": "execute_result"
    }
   ],
   "source": [
    "#Map(funcion,secuencia) aplica una funcion pasada a cada elemento de un objeto iterable y devuelve una lista que contiene todos los resultados de las llamadas de funcion\n",
    "\n",
    "#funcion cube\n",
    "def cube(x):\n",
    "    return x**3\n",
    "\n",
    "#Llamada a la funcion Cube\n",
    "cube(2)"
   ]
  },
  {
   "cell_type": "code",
   "execution_count": 26,
   "metadata": {
    "collapsed": false
   },
   "outputs": [
    {
     "data": {
      "text/plain": [
       "[1, 8, 27, 64, 125, 216]"
      ]
     },
     "execution_count": 26,
     "metadata": {},
     "output_type": "execute_result"
    }
   ],
   "source": [
    "#Usar map \"Manda a llamar la funcion cube con los numeros 1,2,3,4,5,6,7 y devuelve una lista\n",
    "# de los resultados\"\n",
    "map(cube,range(1,7))"
   ]
  },
  {
   "cell_type": "code",
   "execution_count": 29,
   "metadata": {
    "collapsed": false
   },
   "outputs": [
    {
     "data": {
      "text/plain": [
       "[1, 8, 27, 64, 125, 216]"
      ]
     },
     "execution_count": 29,
     "metadata": {},
     "output_type": "execute_result"
    }
   ],
   "source": [
    "#Otra forma de hacerlo sin usar map\n",
    "lista = [cube(x) for x in range(1,7)]\n",
    "lista"
   ]
  },
  {
   "cell_type": "code",
   "execution_count": 31,
   "metadata": {
    "collapsed": true
   },
   "outputs": [],
   "source": [
    "#Devuelve una lista de un numero (a-70) elevado al cubo y lo guarda en la lista \"serial\"\n",
    "serial = map(cube,range(1,70))"
   ]
  },
  {
   "cell_type": "code",
   "execution_count": 32,
   "metadata": {
    "collapsed": true
   },
   "outputs": [],
   "source": [
    "#Devuelve una lista de un numero (1-70) elevado al cubo y lo guarda en la lista \"parallel\"\n",
    "parallel = dview.map_sync(cube,range(1,70))"
   ]
  },
  {
   "cell_type": "code",
   "execution_count": 33,
   "metadata": {
    "collapsed": false
   },
   "outputs": [
    {
     "data": {
      "text/plain": [
       "True"
      ]
     },
     "execution_count": 33,
     "metadata": {},
     "output_type": "execute_result"
    }
   ],
   "source": [
    "#Revisa si las listas son iguales \"serial == parallel\"\n",
    "serial == parallel"
   ]
  },
  {
   "cell_type": "code",
   "execution_count": 36,
   "metadata": {
    "collapsed": false
   },
   "outputs": [
    {
     "name": "stdout",
     "output_type": "stream",
     "text": [
      "10000 loops, best of 3: 37.5 µs per loop\n",
      "10 loops, best of 3: 127 ms per loop\n"
     ]
    }
   ],
   "source": [
    "#10000 loops, best of 3: 37.5 µs per loop. Total: 375 ms\n",
    "%timeit map(cube,range(1,70))\n",
    "#10 loops, best of 3: 127 ms per loop. Total: 1270 ms\n",
    "%timeit dview.map_sync(cube,range(1,70))"
   ]
  },
  {
   "cell_type": "code",
   "execution_count": 37,
   "metadata": {
    "collapsed": false
   },
   "outputs": [
    {
     "data": {
      "text/plain": [
       "[0, 4, 15, 40]"
      ]
     },
     "execution_count": 37,
     "metadata": {},
     "output_type": "execute_result"
    }
   ],
   "source": [
    "#Definimos otra funcion de prueba\n",
    "def multi(a,b):\n",
    "    return a*b\n",
    "\n",
    "#map_sync paraleliza una funcion\n",
    "dview.map_sync(multi,[0,1,3,5],[2,4,5,8])"
   ]
  },
  {
   "cell_type": "code",
   "execution_count": 38,
   "metadata": {
    "collapsed": true
   },
   "outputs": [],
   "source": [
    "#Definimos una funcion que determina si un numero dado es primo:\n",
    "PrimeQ=lambda x: all(x % i != 0 for i in range(int(x**0.5)+1)[2:]) and x>1"
   ]
  },
  {
   "cell_type": "code",
   "execution_count": 39,
   "metadata": {
    "collapsed": false
   },
   "outputs": [
    {
     "data": {
      "text/plain": [
       "True"
      ]
     },
     "execution_count": 39,
     "metadata": {},
     "output_type": "execute_result"
    }
   ],
   "source": [
    "PrimeQ(2)"
   ]
  },
  {
   "cell_type": "code",
   "execution_count": 40,
   "metadata": {
    "collapsed": false
   },
   "outputs": [
    {
     "data": {
      "text/plain": [
       "True"
      ]
     },
     "execution_count": 40,
     "metadata": {},
     "output_type": "execute_result"
    }
   ],
   "source": [
    "PrimeQ(137)"
   ]
  },
  {
   "cell_type": "code",
   "execution_count": 41,
   "metadata": {
    "collapsed": false
   },
   "outputs": [
    {
     "data": {
      "text/plain": [
       "False"
      ]
     },
     "execution_count": 41,
     "metadata": {},
     "output_type": "execute_result"
    }
   ],
   "source": [
    "PrimeQ(135)"
   ]
  }
 ],
 "metadata": {
  "kernelspec": {
   "display_name": "Python 2",
   "language": "python",
   "name": "python2"
  },
  "language_info": {
   "codemirror_mode": {
    "name": "ipython",
    "version": 2
   },
   "file_extension": ".py",
   "mimetype": "text/x-python",
   "name": "python",
   "nbconvert_exporter": "python",
   "pygments_lexer": "ipython2",
   "version": "2.7.13"
  }
 },
 "nbformat": 4,
 "nbformat_minor": 2
}
