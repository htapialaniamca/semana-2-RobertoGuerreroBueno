{
 "cells": [
  {
   "cell_type": "markdown",
   "metadata": {},
   "source": [
    "# Computo de Alto Desempeño\n",
    "## Tarea: Semana 2 - Primos de Mersenne\n",
    "### Roberto Guerrero Bueno (rguerrero.mca16@lania.edu.mx)"
   ]
  },
  {
   "cell_type": "markdown",
   "metadata": {},
   "source": [
    "Funcion de numero primo"
   ]
  },
  {
   "cell_type": "code",
   "execution_count": 8,
   "metadata": {
    "collapsed": true
   },
   "outputs": [],
   "source": [
    "PrimeQ=lambda x: all(x % i != 0 for i in range(int(x**0.5)+1)[2:]) and x>1"
   ]
  },
  {
   "cell_type": "code",
   "execution_count": 9,
   "metadata": {
    "collapsed": false
   },
   "outputs": [
    {
     "data": {
      "text/plain": [
       "False"
      ]
     },
     "execution_count": 9,
     "metadata": {},
     "output_type": "execute_result"
    }
   ],
   "source": [
    "PrimeQ(2**10-1)"
   ]
  },
  {
   "cell_type": "code",
   "execution_count": 10,
   "metadata": {
    "collapsed": true
   },
   "outputs": [],
   "source": [
    "def potencias(n):\n",
    "    return 2**n-1"
   ]
  },
  {
   "cell_type": "code",
   "execution_count": 11,
   "metadata": {
    "collapsed": false
   },
   "outputs": [
    {
     "data": {
      "text/plain": [
       "1023"
      ]
     },
     "execution_count": 11,
     "metadata": {},
     "output_type": "execute_result"
    }
   ],
   "source": [
    "potencias(10)"
   ]
  },
  {
   "cell_type": "code",
   "execution_count": 12,
   "metadata": {
    "collapsed": false
   },
   "outputs": [
    {
     "data": {
      "text/plain": [
       "[0, 1, 2, 3]"
      ]
     },
     "execution_count": 12,
     "metadata": {},
     "output_type": "execute_result"
    }
   ],
   "source": [
    "import ipyparallel as ipp\n",
    "cli = ipp.Client()\n",
    "cli.ids"
   ]
  },
  {
   "cell_type": "code",
   "execution_count": 13,
   "metadata": {
    "collapsed": false
   },
   "outputs": [],
   "source": [
    "dview = cli[:]"
   ]
  },
  {
   "cell_type": "code",
   "execution_count": 103,
   "metadata": {
    "collapsed": false
   },
   "outputs": [],
   "source": [
    "def dec_mes(numeros,decision):\n",
    "    lista = []\n",
    "    for x in range(len(numeros)):\n",
    "        if(decision[x]):\n",
    "            lista.append(numeros[x])\n",
    "    return lista"
   ]
  },
  {
   "cell_type": "code",
   "execution_count": 111,
   "metadata": {
    "collapsed": false
   },
   "outputs": [
    {
     "name": "stdout",
     "output_type": "stream",
     "text": [
      "[1, 3, 7, 15, 31]\n"
     ]
    }
   ],
   "source": [
    "pri_pot = dview.map_sync(potencias,range(1,6))\n",
    "print pri_pot"
   ]
  },
  {
   "cell_type": "code",
   "execution_count": 109,
   "metadata": {
    "collapsed": false
   },
   "outputs": [
    {
     "name": "stdout",
     "output_type": "stream",
     "text": [
      "10000 loops, best of 3: 26.2 µs per loop\n",
      "[3, 7, 31]\n"
     ]
    }
   ],
   "source": [
    "%timeit map(PrimeQ,pri_pot)\n",
    "pri_pot_ser = map(PrimeQ,pri_pot)\n",
    "mes = dec_mes(pri_pot,pri_pot_ser)\n",
    "print mes"
   ]
  },
  {
   "cell_type": "code",
   "execution_count": 110,
   "metadata": {
    "collapsed": false
   },
   "outputs": [
    {
     "name": "stdout",
     "output_type": "stream",
     "text": [
      "10 loops, best of 3: 109 ms per loop\n",
      "[3, 7, 31]\n"
     ]
    }
   ],
   "source": [
    "%timeit dview.map_sync(PrimeQ,pri_pot)\n",
    "pri_pot_ser = dview.map_sync(PrimeQ,pri_pot)\n",
    "mes = dec_mes(pri_pot,pri_pot_ser)\n",
    "print mes"
   ]
  },
  {
   "cell_type": "code",
   "execution_count": 112,
   "metadata": {
    "collapsed": false
   },
   "outputs": [
    {
     "name": "stdout",
     "output_type": "stream",
     "text": [
      "[1, 3, 7, 15, 31, 63, 127, 255, 511, 1023]\n"
     ]
    }
   ],
   "source": [
    "pri_pot = dview.map_sync(potencias,range(1,11))\n",
    "print pri_pot"
   ]
  },
  {
   "cell_type": "code",
   "execution_count": 113,
   "metadata": {
    "collapsed": false
   },
   "outputs": [
    {
     "name": "stdout",
     "output_type": "stream",
     "text": [
      "10000 loops, best of 3: 108 µs per loop\n",
      "[3, 7, 31, 127]\n"
     ]
    }
   ],
   "source": [
    "%timeit map(PrimeQ,pri_pot)\n",
    "pri_pot_ser = map(PrimeQ,pri_pot)\n",
    "mes = dec_mes(pri_pot,pri_pot_ser)\n",
    "print mes"
   ]
  },
  {
   "cell_type": "code",
   "execution_count": 114,
   "metadata": {
    "collapsed": false
   },
   "outputs": [
    {
     "name": "stdout",
     "output_type": "stream",
     "text": [
      "10 loops, best of 3: 166 ms per loop\n",
      "[3, 7, 31, 127]\n"
     ]
    }
   ],
   "source": [
    "%timeit dview.map_sync(PrimeQ,pri_pot)\n",
    "pri_pot_ser = dview.map_sync(PrimeQ,pri_pot)\n",
    "mes = dec_mes(pri_pot,pri_pot_ser)\n",
    "print mes"
   ]
  },
  {
   "cell_type": "code",
   "execution_count": null,
   "metadata": {
    "collapsed": true
   },
   "outputs": [],
   "source": []
  },
  {
   "cell_type": "code",
   "execution_count": 115,
   "metadata": {
    "collapsed": false
   },
   "outputs": [
    {
     "name": "stdout",
     "output_type": "stream",
     "text": [
      "[1, 3, 7, 15, 31, 63, 127, 255, 511, 1023, 2047]\n"
     ]
    }
   ],
   "source": [
    "pri_pot = dview.map_sync(potencias,range(1,12))\n",
    "print pri_pot"
   ]
  },
  {
   "cell_type": "code",
   "execution_count": 116,
   "metadata": {
    "collapsed": false
   },
   "outputs": [
    {
     "name": "stdout",
     "output_type": "stream",
     "text": [
      "10000 loops, best of 3: 108 µs per loop\n",
      "[3, 7, 31, 127]\n"
     ]
    }
   ],
   "source": [
    "%timeit map(PrimeQ,pri_pot)\n",
    "pri_pot_ser = map(PrimeQ,pri_pot)\n",
    "mes = dec_mes(pri_pot,pri_pot_ser)\n",
    "print mes"
   ]
  },
  {
   "cell_type": "code",
   "execution_count": 117,
   "metadata": {
    "collapsed": false
   },
   "outputs": [
    {
     "name": "stdout",
     "output_type": "stream",
     "text": [
      "10 loops, best of 3: 157 ms per loop\n",
      "[3, 7, 31, 127]\n"
     ]
    }
   ],
   "source": [
    "%timeit dview.map_sync(PrimeQ,pri_pot)\n",
    "pri_pot_ser = dview.map_sync(PrimeQ,pri_pot)\n",
    "mes = dec_mes(pri_pot,pri_pot_ser)\n",
    "print mes"
   ]
  },
  {
   "cell_type": "code",
   "execution_count": null,
   "metadata": {
    "collapsed": true
   },
   "outputs": [],
   "source": []
  },
  {
   "cell_type": "code",
   "execution_count": 118,
   "metadata": {
    "collapsed": false
   },
   "outputs": [
    {
     "name": "stdout",
     "output_type": "stream",
     "text": [
      "[1, 3, 7, 15, 31, 63, 127, 255, 511, 1023, 2047, 4095, 8191, 16383, 32767, 65535, 131071, 262143, 524287, 1048575, 2097151, 4194303, 8388607, 16777215, 33554431, 67108863, 134217727, 268435455, 536870911, 1073741823]\n"
     ]
    }
   ],
   "source": [
    "pri_pot = dview.map_sync(potencias,range(1,31))\n",
    "print pri_pot"
   ]
  },
  {
   "cell_type": "code",
   "execution_count": 119,
   "metadata": {
    "collapsed": false
   },
   "outputs": [
    {
     "name": "stdout",
     "output_type": "stream",
     "text": [
      "100 loops, best of 3: 10.3 ms per loop\n",
      "[3, 7, 31, 127, 8191, 131071, 524287]\n"
     ]
    }
   ],
   "source": [
    "%timeit map(PrimeQ,pri_pot)\n",
    "pri_pot_ser = map(PrimeQ,pri_pot)\n",
    "mes = dec_mes(pri_pot,pri_pot_ser)\n",
    "print mes"
   ]
  },
  {
   "cell_type": "code",
   "execution_count": 120,
   "metadata": {
    "collapsed": false
   },
   "outputs": [
    {
     "name": "stdout",
     "output_type": "stream",
     "text": [
      "10 loops, best of 3: 146 ms per loop\n",
      "[3, 7, 31, 127, 8191, 131071, 524287]\n"
     ]
    }
   ],
   "source": [
    "%timeit dview.map_sync(PrimeQ,pri_pot)\n",
    "pri_pot_ser = dview.map_sync(PrimeQ,pri_pot)\n",
    "mes = dec_mes(pri_pot,pri_pot_ser)\n",
    "print mes"
   ]
  },
  {
   "cell_type": "code",
   "execution_count": null,
   "metadata": {
    "collapsed": true
   },
   "outputs": [],
   "source": []
  },
  {
   "cell_type": "code",
   "execution_count": 121,
   "metadata": {
    "collapsed": false,
    "scrolled": true
   },
   "outputs": [
    {
     "name": "stdout",
     "output_type": "stream",
     "text": [
      "[1, 3, 7, 15, 31, 63, 127, 255, 511, 1023, 2047, 4095, 8191, 16383, 32767, 65535, 131071, 262143, 524287, 1048575, 2097151, 4194303, 8388607, 16777215, 33554431, 67108863, 134217727, 268435455, 536870911, 1073741823, 2147483647L, 4294967295L, 8589934591L, 17179869183L, 34359738367L, 68719476735L, 137438953471L, 274877906943L, 549755813887L, 1099511627775L]\n"
     ]
    }
   ],
   "source": [
    "pri_pot = dview.map_sync(potencias,range(1,41))\n",
    "print pri_pot"
   ]
  },
  {
   "cell_type": "code",
   "execution_count": 122,
   "metadata": {
    "collapsed": false
   },
   "outputs": [
    {
     "name": "stdout",
     "output_type": "stream",
     "text": [
      "1 loop, best of 3: 471 ms per loop\n",
      "[3, 7, 31, 127, 8191, 131071, 524287, 2147483647L]\n"
     ]
    }
   ],
   "source": [
    "%timeit map(PrimeQ,pri_pot)\n",
    "pri_pot_ser = map(PrimeQ,pri_pot)\n",
    "mes = dec_mes(pri_pot,pri_pot_ser)\n",
    "print mes"
   ]
  },
  {
   "cell_type": "code",
   "execution_count": 123,
   "metadata": {
    "collapsed": false
   },
   "outputs": [
    {
     "name": "stdout",
     "output_type": "stream",
     "text": [
      "1 loop, best of 3: 569 ms per loop\n",
      "[3, 7, 31, 127, 8191, 131071, 524287, 2147483647L]\n"
     ]
    }
   ],
   "source": [
    "%timeit dview.map_sync(PrimeQ,pri_pot)\n",
    "pri_pot_ser = dview.map_sync(PrimeQ,pri_pot)\n",
    "mes = dec_mes(pri_pot,pri_pot_ser)\n",
    "print mes"
   ]
  },
  {
   "cell_type": "code",
   "execution_count": null,
   "metadata": {
    "collapsed": true
   },
   "outputs": [],
   "source": []
  },
  {
   "cell_type": "code",
   "execution_count": 124,
   "metadata": {
    "collapsed": false
   },
   "outputs": [
    {
     "name": "stdout",
     "output_type": "stream",
     "text": [
      "[1, 3, 7, 15, 31, 63, 127, 255, 511, 1023, 2047, 4095, 8191, 16383, 32767, 65535, 131071, 262143, 524287, 1048575, 2097151, 4194303, 8388607, 16777215, 33554431, 67108863, 134217727, 268435455, 536870911, 1073741823, 2147483647L, 4294967295L, 8589934591L, 17179869183L, 34359738367L, 68719476735L, 137438953471L, 274877906943L, 549755813887L, 1099511627775L, 2199023255551L, 4398046511103L, 8796093022207L, 17592186044415L, 35184372088831L, 70368744177663L, 140737488355327L, 281474976710655L, 562949953421311L, 1125899906842623L]\n"
     ]
    }
   ],
   "source": [
    "pri_pot = dview.map_sync(potencias,range(1,51))\n",
    "print pri_pot"
   ]
  },
  {
   "cell_type": "code",
   "execution_count": 125,
   "metadata": {
    "collapsed": false
   },
   "outputs": [
    {
     "name": "stdout",
     "output_type": "stream",
     "text": [
      "1 loop, best of 3: 8.35 s per loop\n",
      "[3, 7, 31, 127, 8191, 131071, 524287, 2147483647L]\n"
     ]
    }
   ],
   "source": [
    "%timeit map(PrimeQ,pri_pot)\n",
    "pri_pot_ser = map(PrimeQ,pri_pot)\n",
    "mes = dec_mes(pri_pot,pri_pot_ser)\n",
    "print mes"
   ]
  },
  {
   "cell_type": "code",
   "execution_count": 126,
   "metadata": {
    "collapsed": false
   },
   "outputs": [
    {
     "name": "stdout",
     "output_type": "stream",
     "text": [
      "1 loop, best of 3: 9.11 s per loop\n",
      "[3, 7, 31, 127, 8191, 131071, 524287, 2147483647L]\n"
     ]
    }
   ],
   "source": [
    "%timeit dview.map_sync(PrimeQ,pri_pot)\n",
    "pri_pot_ser = dview.map_sync(PrimeQ,pri_pot)\n",
    "mes = dec_mes(pri_pot,pri_pot_ser)\n",
    "print mes"
   ]
  },
  {
   "cell_type": "code",
   "execution_count": null,
   "metadata": {
    "collapsed": true
   },
   "outputs": [],
   "source": []
  },
  {
   "cell_type": "code",
   "execution_count": 127,
   "metadata": {
    "collapsed": false
   },
   "outputs": [
    {
     "name": "stdout",
     "output_type": "stream",
     "text": [
      "[1, 3, 7, 15, 31, 63, 127, 255, 511, 1023, 2047, 4095, 8191, 16383, 32767, 65535, 131071, 262143, 524287, 1048575, 2097151, 4194303, 8388607, 16777215, 33554431, 67108863, 134217727, 268435455, 536870911, 1073741823, 2147483647L, 4294967295L, 8589934591L, 17179869183L, 34359738367L, 68719476735L, 137438953471L, 274877906943L, 549755813887L, 1099511627775L, 2199023255551L, 4398046511103L, 8796093022207L, 17592186044415L, 35184372088831L, 70368744177663L, 140737488355327L, 281474976710655L, 562949953421311L, 1125899906842623L, 2251799813685247L]\n"
     ]
    }
   ],
   "source": [
    "pri_pot = dview.map_sync(potencias,range(1,52))\n",
    "print pri_pot"
   ]
  },
  {
   "cell_type": "code",
   "execution_count": 128,
   "metadata": {
    "collapsed": false
   },
   "outputs": [
    {
     "name": "stdout",
     "output_type": "stream",
     "text": [
      "1 loop, best of 3: 11.9 s per loop\n",
      "[3, 7, 31, 127, 8191, 131071, 524287, 2147483647L]\n"
     ]
    }
   ],
   "source": [
    "%timeit map(PrimeQ,pri_pot)\n",
    "pri_pot_ser = map(PrimeQ,pri_pot)\n",
    "mes = dec_mes(pri_pot,pri_pot_ser)\n",
    "print mes"
   ]
  },
  {
   "cell_type": "code",
   "execution_count": 129,
   "metadata": {
    "collapsed": false
   },
   "outputs": [
    {
     "name": "stdout",
     "output_type": "stream",
     "text": [
      "1 loop, best of 3: 12.6 s per loop\n",
      "[3, 7, 31, 127, 8191, 131071, 524287, 2147483647L]\n"
     ]
    }
   ],
   "source": [
    "%timeit dview.map_sync(PrimeQ,pri_pot)\n",
    "pri_pot_ser = dview.map_sync(PrimeQ,pri_pot)\n",
    "mes = dec_mes(pri_pot,pri_pot_ser)\n",
    "print mes"
   ]
  },
  {
   "cell_type": "code",
   "execution_count": null,
   "metadata": {
    "collapsed": true
   },
   "outputs": [],
   "source": []
  },
  {
   "cell_type": "code",
   "execution_count": 130,
   "metadata": {
    "collapsed": false
   },
   "outputs": [
    {
     "name": "stdout",
     "output_type": "stream",
     "text": [
      "[1, 3, 7, 15, 31, 63, 127, 255, 511, 1023, 2047, 4095, 8191, 16383, 32767, 65535, 131071, 262143, 524287, 1048575, 2097151, 4194303, 8388607, 16777215, 33554431, 67108863, 134217727, 268435455, 536870911, 1073741823, 2147483647L, 4294967295L, 8589934591L, 17179869183L, 34359738367L, 68719476735L, 137438953471L, 274877906943L, 549755813887L, 1099511627775L, 2199023255551L, 4398046511103L, 8796093022207L, 17592186044415L, 35184372088831L, 70368744177663L, 140737488355327L, 281474976710655L, 562949953421311L, 1125899906842623L, 2251799813685247L, 4503599627370495L]\n"
     ]
    }
   ],
   "source": [
    "pri_pot = dview.map_sync(potencias,range(1,53))\n",
    "print pri_pot"
   ]
  },
  {
   "cell_type": "code",
   "execution_count": 131,
   "metadata": {
    "collapsed": false
   },
   "outputs": [
    {
     "name": "stdout",
     "output_type": "stream",
     "text": [
      "1 loop, best of 3: 17.1 s per loop\n",
      "[3, 7, 31, 127, 8191, 131071, 524287, 2147483647L]\n"
     ]
    }
   ],
   "source": [
    "%timeit map(PrimeQ,pri_pot)\n",
    "pri_pot_ser = map(PrimeQ,pri_pot)\n",
    "mes = dec_mes(pri_pot,pri_pot_ser)\n",
    "print mes"
   ]
  },
  {
   "cell_type": "code",
   "execution_count": 132,
   "metadata": {
    "collapsed": false
   },
   "outputs": [
    {
     "name": "stdout",
     "output_type": "stream",
     "text": [
      "1 loop, best of 3: 17.8 s per loop\n",
      "[3, 7, 31, 127, 8191, 131071, 524287, 2147483647L]\n"
     ]
    }
   ],
   "source": [
    "%timeit dview.map_sync(PrimeQ,pri_pot)\n",
    "pri_pot_ser = dview.map_sync(PrimeQ,pri_pot)\n",
    "mes = dec_mes(pri_pot,pri_pot_ser)\n",
    "print mes"
   ]
  },
  {
   "cell_type": "code",
   "execution_count": null,
   "metadata": {
    "collapsed": true
   },
   "outputs": [],
   "source": []
  },
  {
   "cell_type": "code",
   "execution_count": 133,
   "metadata": {
    "collapsed": false
   },
   "outputs": [
    {
     "name": "stdout",
     "output_type": "stream",
     "text": [
      "[1, 3, 7, 15, 31, 63, 127, 255, 511, 1023, 2047, 4095, 8191, 16383, 32767, 65535, 131071, 262143, 524287, 1048575, 2097151, 4194303, 8388607, 16777215, 33554431, 67108863, 134217727, 268435455, 536870911, 1073741823, 2147483647L, 4294967295L, 8589934591L, 17179869183L, 34359738367L, 68719476735L, 137438953471L, 274877906943L, 549755813887L, 1099511627775L, 2199023255551L, 4398046511103L, 8796093022207L, 17592186044415L, 35184372088831L, 70368744177663L, 140737488355327L, 281474976710655L, 562949953421311L, 1125899906842623L, 2251799813685247L, 4503599627370495L, 9007199254740991L]\n"
     ]
    }
   ],
   "source": [
    "pri_pot = dview.map_sync(potencias,range(1,54))\n",
    "print pri_pot"
   ]
  },
  {
   "cell_type": "code",
   "execution_count": 134,
   "metadata": {
    "collapsed": false
   },
   "outputs": [
    {
     "name": "stdout",
     "output_type": "stream",
     "text": [
      "The slowest run took 8.01 times longer than the fastest. This could mean that an intermediate result is being cached.\n",
      "1 loop, best of 3: 25.3 s per loop\n",
      "[3, 7, 31, 127, 8191, 131071, 524287, 2147483647L]\n"
     ]
    }
   ],
   "source": [
    "%timeit map(PrimeQ,pri_pot)\n",
    "pri_pot_ser = map(PrimeQ,pri_pot)\n",
    "mes = dec_mes(pri_pot,pri_pot_ser)\n",
    "print mes"
   ]
  },
  {
   "cell_type": "code",
   "execution_count": 135,
   "metadata": {
    "collapsed": false
   },
   "outputs": [
    {
     "name": "stdout",
     "output_type": "stream",
     "text": [
      "The slowest run took 6.61 times longer than the fastest. This could mean that an intermediate result is being cached.\n",
      "1 loop, best of 3: 26.8 s per loop\n",
      "[3, 7, 31, 127, 8191, 131071, 524287, 2147483647L]\n"
     ]
    }
   ],
   "source": [
    "%timeit dview.map_sync(PrimeQ,pri_pot)\n",
    "pri_pot_ser = dview.map_sync(PrimeQ,pri_pot)\n",
    "mes = dec_mes(pri_pot,pri_pot_ser)\n",
    "print mes"
   ]
  },
  {
   "cell_type": "code",
   "execution_count": null,
   "metadata": {
    "collapsed": true
   },
   "outputs": [],
   "source": []
  },
  {
   "cell_type": "code",
   "execution_count": 136,
   "metadata": {
    "collapsed": false
   },
   "outputs": [
    {
     "name": "stdout",
     "output_type": "stream",
     "text": [
      "[1, 3, 7, 15, 31, 63, 127, 255, 511, 1023, 2047, 4095, 8191, 16383, 32767, 65535, 131071, 262143, 524287, 1048575, 2097151, 4194303, 8388607, 16777215, 33554431, 67108863, 134217727, 268435455, 536870911, 1073741823, 2147483647L, 4294967295L, 8589934591L, 17179869183L, 34359738367L, 68719476735L, 137438953471L, 274877906943L, 549755813887L, 1099511627775L, 2199023255551L, 4398046511103L, 8796093022207L, 17592186044415L, 35184372088831L, 70368744177663L, 140737488355327L, 281474976710655L, 562949953421311L, 1125899906842623L, 2251799813685247L, 4503599627370495L, 9007199254740991L, 18014398509481983L]\n"
     ]
    }
   ],
   "source": [
    "pri_pot = dview.map_sync(potencias,range(1,55))\n",
    "print pri_pot"
   ]
  },
  {
   "cell_type": "code",
   "execution_count": 113,
   "metadata": {
    "collapsed": false
   },
   "outputs": [
    {
     "name": "stdout",
     "output_type": "stream",
     "text": [
      "10000 loops, best of 3: 108 µs per loop\n",
      "[3, 7, 31, 127]\n"
     ]
    }
   ],
   "source": [
    "%timeit map(PrimeQ,pri_pot)\n",
    "t_inicial = time()\n",
    "pri_pot_ser = map(PrimeQ,pri_pot)\n",
    "t_final = time()\n",
    "tiempo = t_final - t_inicial\n",
    "mes = dec_mes(pri_pot,pri_pot_ser)\n",
    "print mes\n",
    "print \"Tiempo: \",tiempo"
   ]
  },
  {
   "cell_type": "code",
   "execution_count": 137,
   "metadata": {
    "collapsed": false
   },
   "outputs": [
    {
     "name": "stdout",
     "output_type": "stream",
     "text": [
      "1 loop, best of 3: 5min 15s per loop\n",
      "[3, 7, 31, 127, 8191, 131071, 524287, 2147483647L]\n"
     ]
    }
   ],
   "source": [
    "\n",
    "%timeit dview.map_sync(PrimeQ,pri_pot)\n",
    "pri_pot_ser = dview.map_sync(PrimeQ,pri_pot)\n",
    "mes = dec_mes(pri_pot,pri_pot_ser)\n",
    "print mes"
   ]
  },
  {
   "cell_type": "code",
   "execution_count": null,
   "metadata": {
    "collapsed": true
   },
   "outputs": [],
   "source": []
  }
 ],
 "metadata": {
  "kernelspec": {
   "display_name": "Python 2",
   "language": "python",
   "name": "python2"
  },
  "language_info": {
   "codemirror_mode": {
    "name": "ipython",
    "version": 2
   },
   "file_extension": ".py",
   "mimetype": "text/x-python",
   "name": "python",
   "nbconvert_exporter": "python",
   "pygments_lexer": "ipython2",
   "version": "2.7.13"
  }
 },
 "nbformat": 4,
 "nbformat_minor": 2
}
